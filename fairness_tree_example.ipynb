{
 "cells": [
  {
   "cell_type": "markdown",
   "id": "administrative-dutch",
   "metadata": {},
   "source": [
    "# Fairness Tree Example\n",
    "\n",
    "## *DRAFT*\n",
    "\n",
    "Xavier & Francis\n",
    "\n",
    "Example of the **fairness tree** with the `german-risk-scoring.csv` dataset.\n",
    "\n",
    "![Fairness Tree](./fairness_tree.png)"
   ]
  },
  {
   "cell_type": "markdown",
   "id": "apart-flood",
   "metadata": {},
   "source": [
    "## Imports"
   ]
  },
  {
   "cell_type": "code",
   "execution_count": 240,
   "id": "southeast-treatment",
   "metadata": {},
   "outputs": [],
   "source": [
    "# imports\n",
    "import numpy as np\n",
    "import pandas as pd\n",
    "import seaborn as sns\n",
    "\n",
    "from sklearn.preprocessing import OneHotEncoder\n",
    "from sklearn.model_selection import train_test_split\n",
    "from sklearn.linear_model import LogisticRegression\n",
    "from sklearn.metrics import accuracy_score, f1_score\n",
    "from sklearn.metrics import accuracy_score, f1_score, confusion_matrix"
   ]
  },
  {
   "cell_type": "markdown",
   "id": "sensitive-opera",
   "metadata": {},
   "source": [
    "## Data Load"
   ]
  },
  {
   "cell_type": "code",
   "execution_count": 2,
   "id": "simplified-lover",
   "metadata": {},
   "outputs": [
    {
     "name": "stdout",
     "output_type": "stream",
     "text": [
      "<class 'pandas.core.frame.DataFrame'>\n",
      "RangeIndex: 1000 entries, 0 to 999\n",
      "Data columns (total 21 columns):\n",
      " #   Column                                                    Non-Null Count  Dtype \n",
      "---  ------                                                    --------------  ----- \n",
      " 0   Status of existing checking account                       1000 non-null   object\n",
      " 1   Duration in month                                         1000 non-null   int64 \n",
      " 2   Credit history                                            1000 non-null   object\n",
      " 3   Purpose                                                   1000 non-null   object\n",
      " 4   Credit amount                                             1000 non-null   int64 \n",
      " 5   Savings account/bonds                                     1000 non-null   object\n",
      " 6   Present employment since                                  1000 non-null   object\n",
      " 7   Installment rate in percentage of disposable income       1000 non-null   int64 \n",
      " 8   Personal status and sex                                   1000 non-null   object\n",
      " 9   Other debtors / guarantors                                1000 non-null   object\n",
      " 10  Present residence since                                   1000 non-null   int64 \n",
      " 11  Property                                                  1000 non-null   object\n",
      " 12  Age in years                                              1000 non-null   int64 \n",
      " 13  Other installment plans                                   1000 non-null   object\n",
      " 14  Housing                                                   1000 non-null   object\n",
      " 15  Number of existing credits at this bank                   1000 non-null   int64 \n",
      " 16  Job                                                       1000 non-null   object\n",
      " 17  Number of people being liable to provide maintenance for  1000 non-null   int64 \n",
      " 18  Telephone                                                 1000 non-null   object\n",
      " 19  foreign worker                                            1000 non-null   object\n",
      " 20  Cost Matrix(Risk)                                         1000 non-null   object\n",
      "dtypes: int64(7), object(14)\n",
      "memory usage: 164.2+ KB\n"
     ]
    }
   ],
   "source": [
    "# dataset\n",
    "data = pd.read_csv('german-risk-scoring.csv')\n",
    "data.info()"
   ]
  },
  {
   "cell_type": "code",
   "execution_count": 3,
   "id": "orange-drink",
   "metadata": {},
   "outputs": [
    {
     "data": {
      "text/plain": [
       "Good Risk    700\n",
       "Bad Risk     300\n",
       "Name: Cost Matrix(Risk), dtype: int64"
      ]
     },
     "execution_count": 3,
     "metadata": {},
     "output_type": "execute_result"
    }
   ],
   "source": [
    "# y\n",
    "data['Cost Matrix(Risk)'].value_counts()"
   ]
  },
  {
   "cell_type": "code",
   "execution_count": 4,
   "id": "practical-withdrawal",
   "metadata": {},
   "outputs": [
    {
     "data": {
      "text/plain": [
       "male:single                          548\n",
       "female:divorced/separated/married    310\n",
       "male:married/widowed                  92\n",
       "male:divorced/separated               50\n",
       "Name: Personal status and sex, dtype: int64"
      ]
     },
     "execution_count": 4,
     "metadata": {},
     "output_type": "execute_result"
    }
   ],
   "source": [
    "# Personal status and sex\n",
    "data[\"Personal status and sex\"].value_counts()"
   ]
  },
  {
   "cell_type": "markdown",
   "id": "final-anger",
   "metadata": {},
   "source": [
    "## Data Prep"
   ]
  },
  {
   "cell_type": "code",
   "execution_count": 5,
   "id": "necessary-puzzle",
   "metadata": {},
   "outputs": [],
   "source": [
    "# create sex column\n",
    "data[\"sex\"] = data[\"Personal status and sex\"].map(lambda x : x.split(\":\")[0])"
   ]
  },
  {
   "cell_type": "code",
   "execution_count": 6,
   "id": "royal-wholesale",
   "metadata": {},
   "outputs": [],
   "source": [
    "# create X=features, y=target\n",
    "X = data.drop(columns = 'Cost Matrix(Risk)')\n",
    "y = data['Cost Matrix(Risk)'].map({\"Good Risk\": 1, \"Bad Risk\": 0})"
   ]
  },
  {
   "cell_type": "code",
   "execution_count": 7,
   "id": "external-commander",
   "metadata": {},
   "outputs": [],
   "source": [
    "# type modifications\n",
    "\n",
    "cols_cat = [\n",
    "    'Status of existing checking account',\n",
    "    'Credit history',\n",
    "    'Purpose',\n",
    "    'Savings account/bonds',\n",
    "    'Present employment since',\n",
    "    'Personal status and sex', \n",
    "    'Other debtors / guarantors',\n",
    "    'Property',\n",
    "    'Other installment plans',\n",
    "    'Housing',\n",
    "    'Job',\n",
    "    'Telephone',\n",
    "    'foreign worker',\n",
    "    'sex'\n",
    "       ]\n",
    "\n",
    "cols_num = [\n",
    "    'Duration in month',\n",
    "    'Credit amount',\n",
    "    'Installment rate in percentage of disposable income',\n",
    "    'Present residence since',\n",
    "    'Age in years',\n",
    "    'Number of existing credits at this bank',\n",
    "    'Number of people being liable to provide maintenance for',\n",
    "    ]\n",
    "\n",
    "for col in cols_cat:\n",
    "    data[col] = data[col].astype(str)\n",
    "    \n",
    "for col in cols_num:\n",
    "    data[col] = data[col].astype(float)\n",
    "\n",
    "cols = cols_cat + cols_num"
   ]
  },
  {
   "cell_type": "code",
   "execution_count": 8,
   "id": "essential-studio",
   "metadata": {},
   "outputs": [
    {
     "data": {
      "text/plain": [
       "Status of existing checking account     4\n",
       "Credit history                          5\n",
       "Purpose                                10\n",
       "Savings account/bonds                   5\n",
       "Present employment since                5\n",
       "Personal status and sex                 4\n",
       "Other debtors / guarantors              3\n",
       "Property                                4\n",
       "Other installment plans                 3\n",
       "Housing                                 3\n",
       "Job                                     4\n",
       "Telephone                               2\n",
       "foreign worker                          2\n",
       "sex                                     2\n",
       "dtype: int64"
      ]
     },
     "execution_count": 8,
     "metadata": {},
     "output_type": "execute_result"
    }
   ],
   "source": [
    "# unique values of categorical columns\n",
    "\n",
    "X[cols_cat].nunique()"
   ]
  },
  {
   "cell_type": "code",
   "execution_count": 9,
   "id": "heard-guess",
   "metadata": {},
   "outputs": [
    {
     "data": {
      "text/plain": [
       "(1000, 63)"
      ]
     },
     "execution_count": 9,
     "metadata": {},
     "output_type": "execute_result"
    }
   ],
   "source": [
    "# all to numbers\n",
    "\n",
    "encoder = OneHotEncoder()\n",
    "X_cat = encoder.fit_transform(X[cols_cat]).toarray()\n",
    "X_num = X[cols_num]\n",
    "X_prep = np.concatenate((X_num, X_cat), axis=1)\n",
    "X_prep.shape"
   ]
  },
  {
   "cell_type": "code",
   "execution_count": 10,
   "id": "bridal-choice",
   "metadata": {},
   "outputs": [
    {
     "data": {
      "text/plain": [
       "array(['Status of existing checking account_0 <= <200 DM',\n",
       "       'Status of existing checking account_<0 DM',\n",
       "       'Status of existing checking account_>= 200 DM ',\n",
       "       'Status of existing checking account_no checking account',\n",
       "       'Credit history_all credits at this bank paid back duly',\n",
       "       'Credit history_critical account',\n",
       "       'Credit history_delay in paying off',\n",
       "       'Credit history_existing credits paid back duly till now',\n",
       "       'Credit history_no credits taken', 'Purpose_business',\n",
       "       'Purpose_car (new)', 'Purpose_car (used)',\n",
       "       'Purpose_domestic appliances', 'Purpose_education',\n",
       "       'Purpose_furniture/equipment', 'Purpose_others',\n",
       "       'Purpose_radio/television', 'Purpose_repairs',\n",
       "       'Purpose_retraining', 'Savings account/bonds_100 <= <500 DM',\n",
       "       'Savings account/bonds_500 <= < 1000 DM',\n",
       "       'Savings account/bonds_<100 DM',\n",
       "       'Savings account/bonds_>= 1000 DM',\n",
       "       'Savings account/bonds_no savings account',\n",
       "       'Present employment since_1<= < 4 years',\n",
       "       'Present employment since_4<= <7 years',\n",
       "       'Present employment since_<1 years',\n",
       "       'Present employment since_>=7 years',\n",
       "       'Present employment since_unemployed',\n",
       "       'Personal status and sex_female:divorced/separated/married',\n",
       "       'Personal status and sex_male:divorced/separated',\n",
       "       'Personal status and sex_male:married/widowed',\n",
       "       'Personal status and sex_male:single',\n",
       "       'Other debtors / guarantors_co-applicant',\n",
       "       'Other debtors / guarantors_guarantor',\n",
       "       'Other debtors / guarantors_none', 'Property_car or other',\n",
       "       'Property_real estate',\n",
       "       'Property_savings agreement/life insurance',\n",
       "       'Property_unknown / no property', 'Other installment plans_bank',\n",
       "       'Other installment plans_none', 'Other installment plans_store',\n",
       "       'Housing_for free', 'Housing_own', 'Housing_rent',\n",
       "       'Job_management/ highly qualified employee',\n",
       "       'Job_skilled employee / official',\n",
       "       'Job_unemployed/ unskilled  - non-resident',\n",
       "       'Job_unskilled - resident', 'Telephone_none', 'Telephone_yes',\n",
       "       'foreign worker_no', 'foreign worker_yes', 'sex_female',\n",
       "       'sex_male'], dtype=object)"
      ]
     },
     "execution_count": 10,
     "metadata": {},
     "output_type": "execute_result"
    }
   ],
   "source": [
    "# get values list from one hot encoding of categorical data\n",
    "\n",
    "encoder.get_feature_names(input_features=X[cols_cat].columns)"
   ]
  },
  {
   "cell_type": "code",
   "execution_count": 11,
   "id": "reasonable-intro",
   "metadata": {},
   "outputs": [
    {
     "data": {
      "text/plain": [
       "(1000, 63)"
      ]
     },
     "execution_count": 11,
     "metadata": {},
     "output_type": "execute_result"
    }
   ],
   "source": [
    "# data prepared\n",
    "\n",
    "cols = data[cols_num].columns.tolist() + encoder.get_feature_names(input_features=X[cols_cat].columns).tolist()\n",
    "data_prep = pd.DataFrame(X_prep, columns=cols)\n",
    "data_prep.shape"
   ]
  },
  {
   "cell_type": "code",
   "execution_count": 12,
   "id": "perceived-titanium",
   "metadata": {},
   "outputs": [
    {
     "data": {
      "text/html": [
       "<div>\n",
       "<style scoped>\n",
       "    .dataframe tbody tr th:only-of-type {\n",
       "        vertical-align: middle;\n",
       "    }\n",
       "\n",
       "    .dataframe tbody tr th {\n",
       "        vertical-align: top;\n",
       "    }\n",
       "\n",
       "    .dataframe thead th {\n",
       "        text-align: right;\n",
       "    }\n",
       "</style>\n",
       "<table border=\"1\" class=\"dataframe\">\n",
       "  <thead>\n",
       "    <tr style=\"text-align: right;\">\n",
       "      <th></th>\n",
       "      <th>Duration in month</th>\n",
       "      <th>Credit amount</th>\n",
       "      <th>Installment rate in percentage of disposable income</th>\n",
       "      <th>Present residence since</th>\n",
       "      <th>Age in years</th>\n",
       "      <th>Number of existing credits at this bank</th>\n",
       "      <th>Number of people being liable to provide maintenance for</th>\n",
       "      <th>Status of existing checking account_0 &lt;= &lt;200 DM</th>\n",
       "      <th>Status of existing checking account_&lt;0 DM</th>\n",
       "      <th>Status of existing checking account_&gt;= 200 DM</th>\n",
       "      <th>...</th>\n",
       "      <th>Job_management/ highly qualified employee</th>\n",
       "      <th>Job_skilled employee / official</th>\n",
       "      <th>Job_unemployed/ unskilled  - non-resident</th>\n",
       "      <th>Job_unskilled - resident</th>\n",
       "      <th>Telephone_none</th>\n",
       "      <th>Telephone_yes</th>\n",
       "      <th>foreign worker_no</th>\n",
       "      <th>foreign worker_yes</th>\n",
       "      <th>sex_female</th>\n",
       "      <th>sex_male</th>\n",
       "    </tr>\n",
       "  </thead>\n",
       "  <tbody>\n",
       "    <tr>\n",
       "      <th>0</th>\n",
       "      <td>6.0</td>\n",
       "      <td>1169.0</td>\n",
       "      <td>4.0</td>\n",
       "      <td>4.0</td>\n",
       "      <td>67.0</td>\n",
       "      <td>2.0</td>\n",
       "      <td>1.0</td>\n",
       "      <td>0.0</td>\n",
       "      <td>1.0</td>\n",
       "      <td>0.0</td>\n",
       "      <td>...</td>\n",
       "      <td>0.0</td>\n",
       "      <td>1.0</td>\n",
       "      <td>0.0</td>\n",
       "      <td>0.0</td>\n",
       "      <td>0.0</td>\n",
       "      <td>1.0</td>\n",
       "      <td>0.0</td>\n",
       "      <td>1.0</td>\n",
       "      <td>0.0</td>\n",
       "      <td>1.0</td>\n",
       "    </tr>\n",
       "    <tr>\n",
       "      <th>1</th>\n",
       "      <td>48.0</td>\n",
       "      <td>5951.0</td>\n",
       "      <td>2.0</td>\n",
       "      <td>2.0</td>\n",
       "      <td>22.0</td>\n",
       "      <td>1.0</td>\n",
       "      <td>1.0</td>\n",
       "      <td>1.0</td>\n",
       "      <td>0.0</td>\n",
       "      <td>0.0</td>\n",
       "      <td>...</td>\n",
       "      <td>0.0</td>\n",
       "      <td>1.0</td>\n",
       "      <td>0.0</td>\n",
       "      <td>0.0</td>\n",
       "      <td>1.0</td>\n",
       "      <td>0.0</td>\n",
       "      <td>0.0</td>\n",
       "      <td>1.0</td>\n",
       "      <td>1.0</td>\n",
       "      <td>0.0</td>\n",
       "    </tr>\n",
       "    <tr>\n",
       "      <th>2</th>\n",
       "      <td>12.0</td>\n",
       "      <td>2096.0</td>\n",
       "      <td>2.0</td>\n",
       "      <td>3.0</td>\n",
       "      <td>49.0</td>\n",
       "      <td>1.0</td>\n",
       "      <td>2.0</td>\n",
       "      <td>0.0</td>\n",
       "      <td>0.0</td>\n",
       "      <td>0.0</td>\n",
       "      <td>...</td>\n",
       "      <td>0.0</td>\n",
       "      <td>0.0</td>\n",
       "      <td>0.0</td>\n",
       "      <td>1.0</td>\n",
       "      <td>1.0</td>\n",
       "      <td>0.0</td>\n",
       "      <td>0.0</td>\n",
       "      <td>1.0</td>\n",
       "      <td>0.0</td>\n",
       "      <td>1.0</td>\n",
       "    </tr>\n",
       "    <tr>\n",
       "      <th>3</th>\n",
       "      <td>42.0</td>\n",
       "      <td>7882.0</td>\n",
       "      <td>2.0</td>\n",
       "      <td>4.0</td>\n",
       "      <td>45.0</td>\n",
       "      <td>1.0</td>\n",
       "      <td>2.0</td>\n",
       "      <td>0.0</td>\n",
       "      <td>1.0</td>\n",
       "      <td>0.0</td>\n",
       "      <td>...</td>\n",
       "      <td>0.0</td>\n",
       "      <td>1.0</td>\n",
       "      <td>0.0</td>\n",
       "      <td>0.0</td>\n",
       "      <td>1.0</td>\n",
       "      <td>0.0</td>\n",
       "      <td>0.0</td>\n",
       "      <td>1.0</td>\n",
       "      <td>0.0</td>\n",
       "      <td>1.0</td>\n",
       "    </tr>\n",
       "    <tr>\n",
       "      <th>4</th>\n",
       "      <td>24.0</td>\n",
       "      <td>4870.0</td>\n",
       "      <td>3.0</td>\n",
       "      <td>4.0</td>\n",
       "      <td>53.0</td>\n",
       "      <td>2.0</td>\n",
       "      <td>2.0</td>\n",
       "      <td>0.0</td>\n",
       "      <td>1.0</td>\n",
       "      <td>0.0</td>\n",
       "      <td>...</td>\n",
       "      <td>0.0</td>\n",
       "      <td>1.0</td>\n",
       "      <td>0.0</td>\n",
       "      <td>0.0</td>\n",
       "      <td>1.0</td>\n",
       "      <td>0.0</td>\n",
       "      <td>0.0</td>\n",
       "      <td>1.0</td>\n",
       "      <td>0.0</td>\n",
       "      <td>1.0</td>\n",
       "    </tr>\n",
       "  </tbody>\n",
       "</table>\n",
       "<p>5 rows × 63 columns</p>\n",
       "</div>"
      ],
      "text/plain": [
       "   Duration in month  Credit amount  \\\n",
       "0                6.0         1169.0   \n",
       "1               48.0         5951.0   \n",
       "2               12.0         2096.0   \n",
       "3               42.0         7882.0   \n",
       "4               24.0         4870.0   \n",
       "\n",
       "   Installment rate in percentage of disposable income  \\\n",
       "0                                                4.0     \n",
       "1                                                2.0     \n",
       "2                                                2.0     \n",
       "3                                                2.0     \n",
       "4                                                3.0     \n",
       "\n",
       "   Present residence since  Age in years  \\\n",
       "0                      4.0          67.0   \n",
       "1                      2.0          22.0   \n",
       "2                      3.0          49.0   \n",
       "3                      4.0          45.0   \n",
       "4                      4.0          53.0   \n",
       "\n",
       "   Number of existing credits at this bank  \\\n",
       "0                                      2.0   \n",
       "1                                      1.0   \n",
       "2                                      1.0   \n",
       "3                                      1.0   \n",
       "4                                      2.0   \n",
       "\n",
       "   Number of people being liable to provide maintenance for  \\\n",
       "0                                                1.0          \n",
       "1                                                1.0          \n",
       "2                                                2.0          \n",
       "3                                                2.0          \n",
       "4                                                2.0          \n",
       "\n",
       "   Status of existing checking account_0 <= <200 DM  \\\n",
       "0                                               0.0   \n",
       "1                                               1.0   \n",
       "2                                               0.0   \n",
       "3                                               0.0   \n",
       "4                                               0.0   \n",
       "\n",
       "   Status of existing checking account_<0 DM  \\\n",
       "0                                        1.0   \n",
       "1                                        0.0   \n",
       "2                                        0.0   \n",
       "3                                        1.0   \n",
       "4                                        1.0   \n",
       "\n",
       "   Status of existing checking account_>= 200 DM   ...  \\\n",
       "0                                             0.0  ...   \n",
       "1                                             0.0  ...   \n",
       "2                                             0.0  ...   \n",
       "3                                             0.0  ...   \n",
       "4                                             0.0  ...   \n",
       "\n",
       "   Job_management/ highly qualified employee  Job_skilled employee / official  \\\n",
       "0                                        0.0                              1.0   \n",
       "1                                        0.0                              1.0   \n",
       "2                                        0.0                              0.0   \n",
       "3                                        0.0                              1.0   \n",
       "4                                        0.0                              1.0   \n",
       "\n",
       "   Job_unemployed/ unskilled  - non-resident  Job_unskilled - resident  \\\n",
       "0                                        0.0                       0.0   \n",
       "1                                        0.0                       0.0   \n",
       "2                                        0.0                       1.0   \n",
       "3                                        0.0                       0.0   \n",
       "4                                        0.0                       0.0   \n",
       "\n",
       "   Telephone_none  Telephone_yes  foreign worker_no  foreign worker_yes  \\\n",
       "0             0.0            1.0                0.0                 1.0   \n",
       "1             1.0            0.0                0.0                 1.0   \n",
       "2             1.0            0.0                0.0                 1.0   \n",
       "3             1.0            0.0                0.0                 1.0   \n",
       "4             1.0            0.0                0.0                 1.0   \n",
       "\n",
       "   sex_female  sex_male  \n",
       "0         0.0       1.0  \n",
       "1         1.0       0.0  \n",
       "2         0.0       1.0  \n",
       "3         0.0       1.0  \n",
       "4         0.0       1.0  \n",
       "\n",
       "[5 rows x 63 columns]"
      ]
     },
     "execution_count": 12,
     "metadata": {},
     "output_type": "execute_result"
    }
   ],
   "source": [
    "# data prepared\n",
    "\n",
    "data_prep.head()"
   ]
  },
  {
   "cell_type": "markdown",
   "id": "promising-divorce",
   "metadata": {},
   "source": [
    "## Machine Learning"
   ]
  },
  {
   "cell_type": "code",
   "execution_count": 13,
   "id": "boxed-flexibility",
   "metadata": {},
   "outputs": [
    {
     "name": "stdout",
     "output_type": "stream",
     "text": [
      "(800, 63) (200, 63) (800,) (200,)\n"
     ]
    }
   ],
   "source": [
    "# split train test\n",
    "\n",
    "X_train, X_test, y_train, y_test = train_test_split(data_prep, y, test_size=0.2, random_state=42)\n",
    "X_train = X_train.copy()\n",
    "X_test = X_test.copy()\n",
    "print(X_train.shape, X_test.shape, y_train.shape, y_test.shape)"
   ]
  },
  {
   "cell_type": "code",
   "execution_count": 14,
   "id": "useful-aaron",
   "metadata": {},
   "outputs": [
    {
     "data": {
      "text/plain": [
       "LogisticRegression(max_iter=500, n_jobs=8, random_state=0)"
      ]
     },
     "execution_count": 14,
     "metadata": {},
     "output_type": "execute_result"
    }
   ],
   "source": [
    "# train model\n",
    "\n",
    "clf = LogisticRegression(random_state=0, n_jobs=8, max_iter=500)\n",
    "clf.fit(X_train, y_train)"
   ]
  },
  {
   "cell_type": "code",
   "execution_count": 15,
   "id": "focal-strain",
   "metadata": {},
   "outputs": [],
   "source": [
    "# function print_results()\n",
    "\n",
    "def print_results(y_label, y_pred):\n",
    "    print(\"accuracy_score = {:.3f}\".format(accuracy_score(y_label, y_pred)))\n",
    "    print(\"f1_score = {:.3f}\".format(f1_score(y_label, y_pred)))\n",
    "    print(\"confusion_matrix:\\n\", confusion_matrix(y_label, y_pred))"
   ]
  },
  {
   "cell_type": "code",
   "execution_count": 16,
   "id": "sorted-peeing",
   "metadata": {},
   "outputs": [
    {
     "name": "stdout",
     "output_type": "stream",
     "text": [
      "accuracy_score = 0.775\n",
      "f1_score = 0.847\n",
      "confusion_matrix:\n",
      " [[122 119]\n",
      " [ 61 498]]\n"
     ]
    }
   ],
   "source": [
    "# predict on train set\n",
    "\n",
    "y_pred = clf.predict(X_train)\n",
    "print_results(y_train, y_pred)"
   ]
  },
  {
   "cell_type": "code",
   "execution_count": 17,
   "id": "extended-florence",
   "metadata": {},
   "outputs": [
    {
     "name": "stdout",
     "output_type": "stream",
     "text": [
      "accuracy_score = 0.785\n",
      "f1_score = 0.853\n",
      "confusion_matrix:\n",
      " [[ 32  27]\n",
      " [ 16 125]]\n"
     ]
    }
   ],
   "source": [
    "# predict on test set\n",
    "\n",
    "y_pred = clf.predict(X_test)\n",
    "print_results(y_test, y_pred)"
   ]
  },
  {
   "cell_type": "markdown",
   "id": "returning-fight",
   "metadata": {},
   "source": [
    "## Fairness Analysis (cf. Aequitas)\n",
    "\n",
    "*Source*: http://www.datasciencepublicpolicy.org/projects/aequitas/"
   ]
  },
  {
   "cell_type": "code",
   "execution_count": 18,
   "id": "honey-sponsorship",
   "metadata": {},
   "outputs": [],
   "source": [
    "# select columns to analyse\n",
    "\n",
    "cols_num_to_analyse = [\n",
    "#     'Duration in month',\n",
    "     'Credit amount',\n",
    "#     'Installment rate in percentage of disposable income',\n",
    "#     'Present residence since',\n",
    "     'Age in years',\n",
    "#     'Number of existing credits at this bank',\n",
    "#     'Number of people being liable to provide maintenance for',\n",
    "]\n",
    "\n",
    "cols_cat_to_analyse = [\n",
    "#     'Status of existing checking account',\n",
    "#     'Credit history',\n",
    "#     'Purpose',\n",
    "#     'Savings account/bonds',\n",
    "#     'Present employment since',\n",
    "#     'Personal status and sex', \n",
    "#     'Other debtors / guarantors',\n",
    "#     'Property',\n",
    "#     'Other installment plans',\n",
    "#     'Housing',\n",
    "#     'Job',\n",
    "#     'Telephone',\n",
    "#     'foreign worker',\n",
    "     'sex',\n",
    "]\n",
    "\n",
    "cols_to_analyse = cols_num_to_analyse + cols_cat_to_analyse\n",
    "\n",
    "# build analysis\n",
    "analysis = X.loc[X_test.index, cols_to_analyse].copy()\n",
    "analysis['label'] = y_test\n",
    "analysis['prediction'] = y_pred"
   ]
  },
  {
   "cell_type": "code",
   "execution_count": 19,
   "id": "coastal-boundary",
   "metadata": {},
   "outputs": [
    {
     "data": {
      "text/html": [
       "<div>\n",
       "<style scoped>\n",
       "    .dataframe tbody tr th:only-of-type {\n",
       "        vertical-align: middle;\n",
       "    }\n",
       "\n",
       "    .dataframe tbody tr th {\n",
       "        vertical-align: top;\n",
       "    }\n",
       "\n",
       "    .dataframe thead th {\n",
       "        text-align: right;\n",
       "    }\n",
       "</style>\n",
       "<table border=\"1\" class=\"dataframe\">\n",
       "  <thead>\n",
       "    <tr style=\"text-align: right;\">\n",
       "      <th></th>\n",
       "      <th>Credit amount</th>\n",
       "      <th>Age in years</th>\n",
       "      <th>sex_female</th>\n",
       "      <th>sex_male</th>\n",
       "    </tr>\n",
       "  </thead>\n",
       "  <tbody>\n",
       "    <tr>\n",
       "      <th>521</th>\n",
       "      <td>3190.0</td>\n",
       "      <td>24.0</td>\n",
       "      <td>1.0</td>\n",
       "      <td>0.0</td>\n",
       "    </tr>\n",
       "    <tr>\n",
       "      <th>737</th>\n",
       "      <td>4380.0</td>\n",
       "      <td>35.0</td>\n",
       "      <td>0.0</td>\n",
       "      <td>1.0</td>\n",
       "    </tr>\n",
       "    <tr>\n",
       "      <th>740</th>\n",
       "      <td>2325.0</td>\n",
       "      <td>32.0</td>\n",
       "      <td>0.0</td>\n",
       "      <td>1.0</td>\n",
       "    </tr>\n",
       "    <tr>\n",
       "      <th>660</th>\n",
       "      <td>1297.0</td>\n",
       "      <td>23.0</td>\n",
       "      <td>0.0</td>\n",
       "      <td>1.0</td>\n",
       "    </tr>\n",
       "    <tr>\n",
       "      <th>411</th>\n",
       "      <td>7253.0</td>\n",
       "      <td>35.0</td>\n",
       "      <td>0.0</td>\n",
       "      <td>1.0</td>\n",
       "    </tr>\n",
       "  </tbody>\n",
       "</table>\n",
       "</div>"
      ],
      "text/plain": [
       "     Credit amount  Age in years  sex_female  sex_male\n",
       "521         3190.0          24.0         1.0       0.0\n",
       "737         4380.0          35.0         0.0       1.0\n",
       "740         2325.0          32.0         0.0       1.0\n",
       "660         1297.0          23.0         0.0       1.0\n",
       "411         7253.0          35.0         0.0       1.0"
      ]
     },
     "execution_count": 19,
     "metadata": {},
     "output_type": "execute_result"
    }
   ],
   "source": [
    "# X_test for analysis\n",
    "\n",
    "cols_to_analyse_in_X_space = cols_num_to_analyse + [col for col in data_prep.columns for prefix in cols_cat_to_analyse if col.startswith(prefix)]\n",
    "X_test[cols_to_analyse_in_X_space].head()"
   ]
  },
  {
   "cell_type": "code",
   "execution_count": 20,
   "id": "clean-perth",
   "metadata": {},
   "outputs": [
    {
     "data": {
      "text/html": [
       "<div>\n",
       "<style scoped>\n",
       "    .dataframe tbody tr th:only-of-type {\n",
       "        vertical-align: middle;\n",
       "    }\n",
       "\n",
       "    .dataframe tbody tr th {\n",
       "        vertical-align: top;\n",
       "    }\n",
       "\n",
       "    .dataframe thead th {\n",
       "        text-align: right;\n",
       "    }\n",
       "</style>\n",
       "<table border=\"1\" class=\"dataframe\">\n",
       "  <thead>\n",
       "    <tr style=\"text-align: right;\">\n",
       "      <th></th>\n",
       "      <th>Credit amount</th>\n",
       "      <th>Age in years</th>\n",
       "      <th>sex</th>\n",
       "      <th>label</th>\n",
       "      <th>prediction</th>\n",
       "    </tr>\n",
       "  </thead>\n",
       "  <tbody>\n",
       "    <tr>\n",
       "      <th>521</th>\n",
       "      <td>3190</td>\n",
       "      <td>24</td>\n",
       "      <td>female</td>\n",
       "      <td>0</td>\n",
       "      <td>1</td>\n",
       "    </tr>\n",
       "    <tr>\n",
       "      <th>737</th>\n",
       "      <td>4380</td>\n",
       "      <td>35</td>\n",
       "      <td>male</td>\n",
       "      <td>1</td>\n",
       "      <td>0</td>\n",
       "    </tr>\n",
       "    <tr>\n",
       "      <th>740</th>\n",
       "      <td>2325</td>\n",
       "      <td>32</td>\n",
       "      <td>male</td>\n",
       "      <td>1</td>\n",
       "      <td>0</td>\n",
       "    </tr>\n",
       "    <tr>\n",
       "      <th>660</th>\n",
       "      <td>1297</td>\n",
       "      <td>23</td>\n",
       "      <td>male</td>\n",
       "      <td>1</td>\n",
       "      <td>1</td>\n",
       "    </tr>\n",
       "    <tr>\n",
       "      <th>411</th>\n",
       "      <td>7253</td>\n",
       "      <td>35</td>\n",
       "      <td>male</td>\n",
       "      <td>1</td>\n",
       "      <td>1</td>\n",
       "    </tr>\n",
       "  </tbody>\n",
       "</table>\n",
       "</div>"
      ],
      "text/plain": [
       "     Credit amount  Age in years     sex  label  prediction\n",
       "521           3190            24  female      0           1\n",
       "737           4380            35    male      1           0\n",
       "740           2325            32    male      1           0\n",
       "660           1297            23    male      1           1\n",
       "411           7253            35    male      1           1"
      ]
     },
     "execution_count": 20,
     "metadata": {},
     "output_type": "execute_result"
    }
   ],
   "source": [
    "# analysis\n",
    "\n",
    "analysis.head()"
   ]
  },
  {
   "cell_type": "code",
   "execution_count": 51,
   "id": "located-liability",
   "metadata": {},
   "outputs": [
    {
     "data": {
      "text/html": [
       "<div>\n",
       "<style scoped>\n",
       "    .dataframe tbody tr th:only-of-type {\n",
       "        vertical-align: middle;\n",
       "    }\n",
       "\n",
       "    .dataframe tbody tr th {\n",
       "        vertical-align: top;\n",
       "    }\n",
       "\n",
       "    .dataframe thead th {\n",
       "        text-align: right;\n",
       "    }\n",
       "</style>\n",
       "<table border=\"1\" class=\"dataframe\">\n",
       "  <thead>\n",
       "    <tr style=\"text-align: right;\">\n",
       "      <th></th>\n",
       "      <th>Credit amount</th>\n",
       "      <th>Age in years</th>\n",
       "      <th>sex</th>\n",
       "      <th>label</th>\n",
       "      <th>prediction</th>\n",
       "      <th>q_Credit amount</th>\n",
       "      <th>q_Age in years</th>\n",
       "    </tr>\n",
       "  </thead>\n",
       "  <tbody>\n",
       "    <tr>\n",
       "      <th>521</th>\n",
       "      <td>3190</td>\n",
       "      <td>24</td>\n",
       "      <td>female</td>\n",
       "      <td>0</td>\n",
       "      <td>1</td>\n",
       "      <td>(2223.0, 3528.25]</td>\n",
       "      <td>(19.999, 27.0]</td>\n",
       "    </tr>\n",
       "    <tr>\n",
       "      <th>737</th>\n",
       "      <td>4380</td>\n",
       "      <td>35</td>\n",
       "      <td>male</td>\n",
       "      <td>1</td>\n",
       "      <td>0</td>\n",
       "      <td>(3528.25, 14896.0]</td>\n",
       "      <td>(33.0, 41.25]</td>\n",
       "    </tr>\n",
       "    <tr>\n",
       "      <th>740</th>\n",
       "      <td>2325</td>\n",
       "      <td>32</td>\n",
       "      <td>male</td>\n",
       "      <td>1</td>\n",
       "      <td>0</td>\n",
       "      <td>(2223.0, 3528.25]</td>\n",
       "      <td>(27.0, 33.0]</td>\n",
       "    </tr>\n",
       "    <tr>\n",
       "      <th>660</th>\n",
       "      <td>1297</td>\n",
       "      <td>23</td>\n",
       "      <td>male</td>\n",
       "      <td>1</td>\n",
       "      <td>1</td>\n",
       "      <td>(1292.0, 2223.0]</td>\n",
       "      <td>(19.999, 27.0]</td>\n",
       "    </tr>\n",
       "    <tr>\n",
       "      <th>411</th>\n",
       "      <td>7253</td>\n",
       "      <td>35</td>\n",
       "      <td>male</td>\n",
       "      <td>1</td>\n",
       "      <td>1</td>\n",
       "      <td>(3528.25, 14896.0]</td>\n",
       "      <td>(33.0, 41.25]</td>\n",
       "    </tr>\n",
       "  </tbody>\n",
       "</table>\n",
       "</div>"
      ],
      "text/plain": [
       "     Credit amount  Age in years     sex  label  prediction  \\\n",
       "521           3190            24  female      0           1   \n",
       "737           4380            35    male      1           0   \n",
       "740           2325            32    male      1           0   \n",
       "660           1297            23    male      1           1   \n",
       "411           7253            35    male      1           1   \n",
       "\n",
       "        q_Credit amount  q_Age in years  \n",
       "521   (2223.0, 3528.25]  (19.999, 27.0]  \n",
       "737  (3528.25, 14896.0]   (33.0, 41.25]  \n",
       "740   (2223.0, 3528.25]    (27.0, 33.0]  \n",
       "660    (1292.0, 2223.0]  (19.999, 27.0]  \n",
       "411  (3528.25, 14896.0]   (33.0, 41.25]  "
      ]
     },
     "execution_count": 51,
     "metadata": {},
     "output_type": "execute_result"
    }
   ],
   "source": [
    "# add quantiles to cols_num_to_analyse:\n",
    "for col in cols_num_to_analyse:\n",
    "    analysis[f'q_{col}'] = pd.qcut(analysis[col], 4)\n",
    "    \n",
    "analysis.head()"
   ]
  },
  {
   "cell_type": "markdown",
   "id": "double-residence",
   "metadata": {},
   "source": [
    "### False Positive / Group Size Parity (FPR Parity)\n",
    "\n",
    "*Audit goal*: Ensure all protected groups have the same false positive rates as the reference group. ?\n",
    "\n",
    "What are your chance being wrongly predicted positive according to your category?\n",
    "\n",
    "$P(\\hat{Y} = 1 \\wedge Y = 0 \\mid G)$"
   ]
  },
  {
   "cell_type": "code",
   "execution_count": 289,
   "id": "certified-oakland",
   "metadata": {},
   "outputs": [],
   "source": [
    "def show_fpr(col):\n",
    "    col_to_use = f'q_{col}' if col in cols_num else col\n",
    "    # number by category\n",
    "    num = analysis[col_to_use].value_counts().sort_index()\n",
    "    # a: ŷ = 1 & y = 0\n",
    "    a = analysis.loc[(analysis['prediction']==1) & (analysis['label']==0), col_to_use].value_counts()\n",
    "    # b: all\n",
    "    b = num\n",
    "    result = a.div(b).sort_index()\n",
    "\n",
    "    ax = sns.barplot(x=result, y=result.index, color='orange')\n",
    "    ax.set_title(f'FPR Parity of \"{col}\"\\n'+ r'$P(\\hat{y} = 1 \\wedge y = 0 \\mid ' + col.replace(' ', '\\;') + r')$')\n",
    "    ax.set_xlabel('')\n",
    "    for i, p in enumerate(ax.patches):\n",
    "        ax.annotate(f'(Num: {num[i]}), {p.get_width():.2f}', (p.get_width() * 1.01, p.get_y() + 0.5))"
   ]
  },
  {
   "cell_type": "code",
   "execution_count": 290,
   "id": "democratic-spoke",
   "metadata": {},
   "outputs": [
    {
     "data": {
      "image/png": "[encoded data removed]",
      "text/plain": [
       "<Figure size 432x288 with 1 Axes>"
      ]
     },
     "metadata": {
      "needs_background": "light"
     },
     "output_type": "display_data"
    }
   ],
   "source": [
    "show_fpr('Credit amount')"
   ]
  },
  {
   "cell_type": "code",
   "execution_count": 265,
   "id": "known-aurora",
   "metadata": {},
   "outputs": [
    {
     "data": {
      "image/png": "[encoded data removed]",
      "text/plain": [
       "<Figure size 432x288 with 1 Axes>"
      ]
     },
     "metadata": {
      "needs_background": "light"
     },
     "output_type": "display_data"
    }
   ],
   "source": [
    "show_fpr('Age in years')"
   ]
  },
  {
   "cell_type": "code",
   "execution_count": 266,
   "id": "forbidden-quarterly",
   "metadata": {},
   "outputs": [
    {
     "data": {
      "image/png": "[encoded data removed]",
      "text/plain": [
       "<Figure size 432x288 with 1 Axes>"
      ]
     },
     "metadata": {
      "needs_background": "light"
     },
     "output_type": "display_data"
    }
   ],
   "source": [
    "show_fpr('sex')"
   ]
  },
  {
   "cell_type": "markdown",
   "id": "former-romania",
   "metadata": {},
   "source": [
    "### False Discovery Rate Parity (FDR Parity)\n",
    "\n",
    "*Audit goal*: Ensure all protected groups have equally proportional false positives within the selected set.\n",
    "\n",
    "Among people being predicted positive, what are the chances being wrongly predicted according to your category?\n",
    "\n",
    "$P(Y = 0 \\mid G \\wedge \\hat{Y} = 1)$"
   ]
  },
  {
   "cell_type": "code",
   "execution_count": 287,
   "id": "operating-webster",
   "metadata": {},
   "outputs": [],
   "source": [
    "def show_fdr(col):\n",
    "    col_to_use = f'q_{col}' if col in cols_num else col\n",
    "    num = analysis[col_to_use].value_counts().sort_index()\n",
    "    # a : y = 0 & ŷ = 1\n",
    "    a = analysis.loc[(analysis['label']==0) & (analysis['prediction']==1), col_to_use].value_counts()\n",
    "    # b : ŷ = 1\n",
    "    b = analysis.loc[(analysis['prediction']==1), col_to_use].value_counts()\n",
    "    result = a.div(b).sort_index()\n",
    "    \n",
    "    ax = sns.barplot(x=result, y=result.index, color='orange')\n",
    "    ax.set_title(f'FDR Parity of \"{col}\"\\n'+ r'$P(y = 0 \\mid ' + col.replace(' ', '\\;') + r' \\wedge \\hat{y} = 1)$')\n",
    "    ax.set_xlabel('')\n",
    "    for i, p in enumerate(ax.patches):\n",
    "        ax.annotate(f'(Num: {num[i]}), {p.get_width():.2f}', (p.get_width() * 1.01, p.get_y() + 0.5))"
   ]
  },
  {
   "cell_type": "code",
   "execution_count": 288,
   "id": "serious-emerald",
   "metadata": {},
   "outputs": [
    {
     "data": {
      "image/png": "[encoded data removed]",
      "text/plain": [
       "<Figure size 432x288 with 1 Axes>"
      ]
     },
     "metadata": {
      "needs_background": "light"
     },
     "output_type": "display_data"
    }
   ],
   "source": [
    "show_fdr('Credit amount')"
   ]
  },
  {
   "cell_type": "code",
   "execution_count": 271,
   "id": "compatible-finger",
   "metadata": {},
   "outputs": [
    {
     "data": {
      "image/png": "[encoded data removed]",
      "text/plain": [
       "<Figure size 432x288 with 1 Axes>"
      ]
     },
     "metadata": {
      "needs_background": "light"
     },
     "output_type": "display_data"
    }
   ],
   "source": [
    "show_fdr('Age in years')"
   ]
  },
  {
   "cell_type": "code",
   "execution_count": 272,
   "id": "statewide-biotechnology",
   "metadata": {},
   "outputs": [
    {
     "data": {
      "image/png": "[encoded data removed]",
      "text/plain": [
       "<Figure size 432x288 with 1 Axes>"
      ]
     },
     "metadata": {
      "needs_background": "light"
     },
     "output_type": "display_data"
    }
   ],
   "source": [
    "show_fdr('sex')"
   ]
  },
  {
   "cell_type": "markdown",
   "id": "bored-survey",
   "metadata": {},
   "source": [
    "### False Positive Rate Parity (FPR Parity)\n",
    "\n",
    "*Audit goal*: Ensure all protected groups have the same false positive rates (as the reference group).\n",
    "\n",
    "Among people being negative, what are the chances being wrongly predicted according to your category?\n",
    "\n",
    "$P(\\hat{Y} = 1 \\mid G, Y = 0)$"
   ]
  },
  {
   "cell_type": "code",
   "execution_count": 291,
   "id": "weekly-instrumentation",
   "metadata": {},
   "outputs": [],
   "source": [
    "def show_fpr(col):\n",
    "    col_to_use = f'q_{col}' if col in cols_num else col\n",
    "    num = analysis[col_to_use].value_counts().sort_index()\n",
    "    # a : ŷ = 1 & y = 0\n",
    "    a = analysis.loc[(analysis['prediction']==1) & (analysis['label']==0), col_to_use].value_counts()\n",
    "    # b : ŷ = 1\n",
    "    b = analysis.loc[(analysis['label']==0), col_to_use].value_counts()\n",
    "    result = a.div(b).sort_index()\n",
    "    \n",
    "    ax = sns.barplot(x=result, y=result.index, color='orange')\n",
    "    ax.set_title(f'FDR Parity of \"{col}\"\\n'+ r'$P(y = 0 \\mid ' + col.replace(' ', '\\;') + r' \\wedge \\hat{y} = 1)$')\n",
    "    ax.set_xlabel('')\n",
    "    for i, p in enumerate(ax.patches):\n",
    "        ax.annotate(f'(Num: {num[i]}), {p.get_width():.2f}', (p.get_width() * 1.01, p.get_y() + 0.5))"
   ]
  },
  {
   "cell_type": "code",
   "execution_count": 292,
   "id": "differential-drunk",
   "metadata": {},
   "outputs": [
    {
     "data": {
      "image/png": "[encoded data removed]",
      "text/plain": [
       "<Figure size 432x288 with 1 Axes>"
      ]
     },
     "metadata": {
      "needs_background": "light"
     },
     "output_type": "display_data"
    }
   ],
   "source": [
    "show_fpr('Credit amount')"
   ]
  },
  {
   "cell_type": "code",
   "execution_count": 293,
   "id": "prescribed-carnival",
   "metadata": {},
   "outputs": [
    {
     "data": {
      "image/png": "[encoded data removed]",
      "text/plain": [
       "<Figure size 432x288 with 1 Axes>"
      ]
     },
     "metadata": {
      "needs_background": "light"
     },
     "output_type": "display_data"
    }
   ],
   "source": [
    "show_fpr('Age in years')"
   ]
  },
  {
   "cell_type": "code",
   "execution_count": 294,
   "id": "radical-castle",
   "metadata": {},
   "outputs": [
    {
     "data": {
      "image/png": "[encoded data removed]",
      "text/plain": [
       "<Figure size 432x288 with 1 Axes>"
      ]
     },
     "metadata": {
      "needs_background": "light"
     },
     "output_type": "display_data"
    }
   ],
   "source": [
    "show_fpr('sex')"
   ]
  },
  {
   "cell_type": "markdown",
   "id": "clear-bobby",
   "metadata": {},
   "source": [
    "### Recall (or True Positive Rate Parity)\n",
    "\n",
    "Among people being positive, what are the chances being correctly predicted according to your category?\n",
    "\n",
    "$P(\\hat{Y} = 1 \\mid G, Y = 1)$"
   ]
  },
  {
   "cell_type": "markdown",
   "id": "irish-swaziland",
   "metadata": {},
   "source": [
    "### False Negative / Group Size Parity\n",
    "\n",
    "What are your chance being wrongly predicted negative according to your category?\n",
    "\n",
    "$P(\\hat{Y} = 0, Y = 1 \\mid G)$"
   ]
  },
  {
   "cell_type": "markdown",
   "id": "violent-poker",
   "metadata": {},
   "source": [
    "### False Omission Rate Parity (FOR Parity)\n",
    "\n",
    "Among people being positive, what are the chances being wrongly predicted according to your category?\n",
    "\n",
    "$P(Y = 1 \\mid G, \\hat{Y} = 0)$"
   ]
  },
  {
   "cell_type": "code",
   "execution_count": 299,
   "id": "sweet-executive",
   "metadata": {},
   "outputs": [],
   "source": [
    "def show_for(col):\n",
    "    col_to_use = f'q_{col}' if col in cols_num else col\n",
    "    num = analysis[col_to_use].value_counts().sort_index()\n",
    "    # a : ŷ = 0 & y = 1\n",
    "    a = analysis.loc[(analysis['prediction']==0) & (analysis['label']==1), col_to_use].value_counts()\n",
    "    # b : ŷ = 0\n",
    "    b = analysis.loc[(analysis['prediction']==0), col_to_use].value_counts()\n",
    "    result = a.div(b).sort_index()\n",
    "    \n",
    "    ax = sns.barplot(x=result, y=result.index, color='orange')\n",
    "    ax.set_title(f'FOR Parity of \"{col}\"\\n'+ r'$P(y = 1 \\mid ' + col.replace(' ', '\\;') + r' \\wedge \\hat{y} = 0)$')\n",
    "    ax.set_xlabel('')\n",
    "    for i, p in enumerate(ax.patches):\n",
    "        ax.annotate(f'(Num: {num[i]}), {p.get_width():.2f}', (p.get_width() * 1.01, p.get_y() + 0.5))"
   ]
  },
  {
   "cell_type": "code",
   "execution_count": 300,
   "id": "polish-despite",
   "metadata": {},
   "outputs": [
    {
     "data": {
      "image/png": "[encoded data removed]",
      "text/plain": [
       "<Figure size 432x288 with 1 Axes>"
      ]
     },
     "metadata": {
      "needs_background": "light"
     },
     "output_type": "display_data"
    }
   ],
   "source": [
    "show_for('Credit amount')"
   ]
  },
  {
   "cell_type": "code",
   "execution_count": 301,
   "id": "linear-stylus",
   "metadata": {},
   "outputs": [
    {
     "data": {
      "image/png": "[encoded data removed]",
      "text/plain": [
       "<Figure size 432x288 with 1 Axes>"
      ]
     },
     "metadata": {
      "needs_background": "light"
     },
     "output_type": "display_data"
    }
   ],
   "source": [
    "show_for('Age in years')"
   ]
  },
  {
   "cell_type": "code",
   "execution_count": 302,
   "id": "compatible-twist",
   "metadata": {},
   "outputs": [
    {
     "data": {
      "image/png": "[encoded data removed]",
      "text/plain": [
       "<Figure size 432x288 with 1 Axes>"
      ]
     },
     "metadata": {
      "needs_background": "light"
     },
     "output_type": "display_data"
    }
   ],
   "source": [
    "show_for('sex')"
   ]
  },
  {
   "cell_type": "markdown",
   "id": "adolescent-mitchell",
   "metadata": {},
   "source": [
    "### False Negative Rate Parity (FNR Parity)\n",
    "\n",
    "*Audit goal*: Ensure all protected groups have the same false negative rates (as the reference group).\n",
    "\n",
    "Among people being positive, what are the chances being wrongly predicted according to your category?\n",
    "\n",
    "$P(\\hat{Y} = 0 \\mid G, Y = 1)$"
   ]
  },
  {
   "cell_type": "code",
   "execution_count": 283,
   "id": "difficult-xerox",
   "metadata": {},
   "outputs": [],
   "source": [
    "def show_fnr(col):\n",
    "    col_to_use = f'q_{col}' if col in cols_num else col\n",
    "    num = analysis[col_to_use].value_counts().sort_index()\n",
    "    # a : ŷ = 1 & y = 0\n",
    "    a = analysis.loc[(analysis['prediction']==0) & (analysis['label']==1), col_to_use].value_counts()\n",
    "    # b : ŷ = 1\n",
    "    b = analysis.loc[(analysis['label']==1), col_to_use].value_counts()\n",
    "    result = a.div(b).sort_index()\n",
    "    \n",
    "    ax = sns.barplot(x=result, y=result.index, color='orange')\n",
    "    ax.set_title(f'FNR Parity of \"{col}\"\\n'+ r'$P(\\hat{y} = 0 \\mid ' + col.replace(' ', '\\;') + r' \\wedge y = 1)$')\n",
    "    ax.set_xlabel('')\n",
    "    for i, p in enumerate(ax.patches):\n",
    "        ax.annotate(f'(Num: {num[i]}), {p.get_width():.2f}', (p.get_width() * 1.01, p.get_y() + 0.5))"
   ]
  },
  {
   "cell_type": "code",
   "execution_count": 284,
   "id": "medieval-termination",
   "metadata": {},
   "outputs": [
    {
     "data": {
      "image/png": "[encoded data removed]",
      "text/plain": [
       "<Figure size 432x288 with 1 Axes>"
      ]
     },
     "metadata": {
      "needs_background": "light"
     },
     "output_type": "display_data"
    }
   ],
   "source": [
    "show_fnr('Credit amount')"
   ]
  },
  {
   "cell_type": "code",
   "execution_count": 281,
   "id": "circular-backing",
   "metadata": {},
   "outputs": [
    {
     "data": {
      "image/png": "[encoded data removed]",
      "text/plain": [
       "<Figure size 432x288 with 1 Axes>"
      ]
     },
     "metadata": {
      "needs_background": "light"
     },
     "output_type": "display_data"
    }
   ],
   "source": [
    "show_fnr('Age in years')"
   ]
  },
  {
   "cell_type": "code",
   "execution_count": 282,
   "id": "immune-iceland",
   "metadata": {},
   "outputs": [
    {
     "data": {
      "image/png": "[encoded data removed]",
      "text/plain": [
       "<Figure size 432x288 with 1 Axes>"
      ]
     },
     "metadata": {
      "needs_background": "light"
     },
     "output_type": "display_data"
    }
   ],
   "source": [
    "show_fnr('sex')"
   ]
  }
 ],
 "metadata": {
  "kernelspec": {
   "display_name": "Python 3",
   "language": "python",
   "name": "python3"
  },
  "language_info": {
   "codemirror_mode": {
    "name": "ipython",
    "version": 3
   },
   "file_extension": ".py",
   "mimetype": "text/x-python",
   "name": "python",
   "nbconvert_exporter": "python",
   "pygments_lexer": "ipython3",
   "version": "3.8.0"
  }
 },
 "nbformat": 4,
 "nbformat_minor": 5
}
