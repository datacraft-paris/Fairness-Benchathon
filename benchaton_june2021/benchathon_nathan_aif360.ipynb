{
  "nbformat": 4,
  "nbformat_minor": 0,
  "metadata": {
    "colab": {
      "name": "benchathon.ipynb",
      "provenance": [],
      "collapsed_sections": []
    },
    "kernelspec": {
      "name": "python3",
      "display_name": "Python 3"
    },
    "language_info": {
      "name": "python"
    }
  },
  "cells": [
    {
      "cell_type": "code",
      "metadata": {
        "id": "unTGefHxVHD3"
      },
      "source": [
        "import pandas as pd\n",
        "import numpy as np\n",
        "import matplotlib.pyplot as plt\n",
        "\n",
        "%matplotlib inline"
      ],
      "execution_count": 95,
      "outputs": []
    },
    {
      "cell_type": "code",
      "metadata": {
        "colab": {
          "base_uri": "https://localhost:8080/"
        },
        "id": "VyomtDuTVa9c",
        "outputId": "5c653588-0045-48f8-ae66-ce71a14e1e11"
      },
      "source": [
        "!pip install aif360"
      ],
      "execution_count": 96,
      "outputs": [
        {
          "output_type": "stream",
          "text": [
            "Requirement already satisfied: aif360 in /usr/local/lib/python3.7/dist-packages (0.4.0)\n",
            "Requirement already satisfied: tempeh in /usr/local/lib/python3.7/dist-packages (from aif360) (0.1.12)\n",
            "Requirement already satisfied: scikit-learn>=0.22.1 in /usr/local/lib/python3.7/dist-packages (from aif360) (0.22.2.post1)\n",
            "Requirement already satisfied: numpy>=1.16 in /usr/local/lib/python3.7/dist-packages (from aif360) (1.19.5)\n",
            "Requirement already satisfied: scipy<1.6.0,>=1.2.0 in /usr/local/lib/python3.7/dist-packages (from aif360) (1.4.1)\n",
            "Requirement already satisfied: pandas>=0.24.0 in /usr/local/lib/python3.7/dist-packages (from aif360) (1.1.5)\n",
            "Requirement already satisfied: matplotlib in /usr/local/lib/python3.7/dist-packages (from aif360) (3.2.2)\n",
            "Requirement already satisfied: pytest in /usr/local/lib/python3.7/dist-packages (from tempeh->aif360) (3.6.4)\n",
            "Requirement already satisfied: requests in /usr/local/lib/python3.7/dist-packages (from tempeh->aif360) (2.23.0)\n",
            "Requirement already satisfied: memory-profiler in /usr/local/lib/python3.7/dist-packages (from tempeh->aif360) (0.58.0)\n",
            "Requirement already satisfied: shap in /usr/local/lib/python3.7/dist-packages (from tempeh->aif360) (0.39.0)\n",
            "Requirement already satisfied: joblib>=0.11 in /usr/local/lib/python3.7/dist-packages (from scikit-learn>=0.22.1->aif360) (1.0.1)\n",
            "Requirement already satisfied: pytz>=2017.2 in /usr/local/lib/python3.7/dist-packages (from pandas>=0.24.0->aif360) (2018.9)\n",
            "Requirement already satisfied: python-dateutil>=2.7.3 in /usr/local/lib/python3.7/dist-packages (from pandas>=0.24.0->aif360) (2.8.1)\n",
            "Requirement already satisfied: pyparsing!=2.0.4,!=2.1.2,!=2.1.6,>=2.0.1 in /usr/local/lib/python3.7/dist-packages (from matplotlib->aif360) (2.4.7)\n",
            "Requirement already satisfied: kiwisolver>=1.0.1 in /usr/local/lib/python3.7/dist-packages (from matplotlib->aif360) (1.3.1)\n",
            "Requirement already satisfied: cycler>=0.10 in /usr/local/lib/python3.7/dist-packages (from matplotlib->aif360) (0.10.0)\n",
            "Requirement already satisfied: more-itertools>=4.0.0 in /usr/local/lib/python3.7/dist-packages (from pytest->tempeh->aif360) (8.8.0)\n",
            "Requirement already satisfied: atomicwrites>=1.0 in /usr/local/lib/python3.7/dist-packages (from pytest->tempeh->aif360) (1.4.0)\n",
            "Requirement already satisfied: setuptools in /usr/local/lib/python3.7/dist-packages (from pytest->tempeh->aif360) (57.0.0)\n",
            "Requirement already satisfied: py>=1.5.0 in /usr/local/lib/python3.7/dist-packages (from pytest->tempeh->aif360) (1.10.0)\n",
            "Requirement already satisfied: attrs>=17.4.0 in /usr/local/lib/python3.7/dist-packages (from pytest->tempeh->aif360) (21.2.0)\n",
            "Requirement already satisfied: six>=1.10.0 in /usr/local/lib/python3.7/dist-packages (from pytest->tempeh->aif360) (1.15.0)\n",
            "Requirement already satisfied: pluggy<0.8,>=0.5 in /usr/local/lib/python3.7/dist-packages (from pytest->tempeh->aif360) (0.7.1)\n",
            "Requirement already satisfied: chardet<4,>=3.0.2 in /usr/local/lib/python3.7/dist-packages (from requests->tempeh->aif360) (3.0.4)\n",
            "Requirement already satisfied: certifi>=2017.4.17 in /usr/local/lib/python3.7/dist-packages (from requests->tempeh->aif360) (2021.5.30)\n",
            "Requirement already satisfied: idna<3,>=2.5 in /usr/local/lib/python3.7/dist-packages (from requests->tempeh->aif360) (2.10)\n",
            "Requirement already satisfied: urllib3!=1.25.0,!=1.25.1,<1.26,>=1.21.1 in /usr/local/lib/python3.7/dist-packages (from requests->tempeh->aif360) (1.24.3)\n",
            "Requirement already satisfied: psutil in /usr/local/lib/python3.7/dist-packages (from memory-profiler->tempeh->aif360) (5.4.8)\n",
            "Requirement already satisfied: tqdm>4.25.0 in /usr/local/lib/python3.7/dist-packages (from shap->tempeh->aif360) (4.41.1)\n",
            "Requirement already satisfied: numba in /usr/local/lib/python3.7/dist-packages (from shap->tempeh->aif360) (0.51.2)\n",
            "Requirement already satisfied: cloudpickle in /usr/local/lib/python3.7/dist-packages (from shap->tempeh->aif360) (1.3.0)\n",
            "Requirement already satisfied: slicer==0.0.7 in /usr/local/lib/python3.7/dist-packages (from shap->tempeh->aif360) (0.0.7)\n",
            "Requirement already satisfied: llvmlite<0.35,>=0.34.0.dev0 in /usr/local/lib/python3.7/dist-packages (from numba->shap->tempeh->aif360) (0.34.0)\n"
          ],
          "name": "stdout"
        }
      ]
    },
    {
      "cell_type": "code",
      "metadata": {
        "id": "_DAsXyf6V6Hq"
      },
      "source": [
        "data = pd.read_csv(\"https://raw.githubusercontent.com/ekimetrics/ethical-ai-toolkit/main/data/german-risk-scoring.csv\")"
      ],
      "execution_count": 97,
      "outputs": []
    },
    {
      "cell_type": "markdown",
      "metadata": {
        "id": "TCx12_z5Waac"
      },
      "source": [
        "<h3>Exploration</h3>"
      ]
    },
    {
      "cell_type": "code",
      "metadata": {
        "id": "I-M0inEIWO0C"
      },
      "source": [
        "#data.head(2)"
      ],
      "execution_count": 98,
      "outputs": []
    },
    {
      "cell_type": "code",
      "metadata": {
        "id": "bW-iMPj3Whpp"
      },
      "source": [
        "#data.columns"
      ],
      "execution_count": 99,
      "outputs": []
    },
    {
      "cell_type": "code",
      "metadata": {
        "id": "zu067kcWWlzZ"
      },
      "source": [
        "#data['Cost Matrix(Risk)'].head()"
      ],
      "execution_count": 100,
      "outputs": []
    },
    {
      "cell_type": "markdown",
      "metadata": {
        "id": "FU1xNP0iRouC"
      },
      "source": [
        "<h4>Dealing with categorical variables</h4>"
      ]
    },
    {
      "cell_type": "code",
      "metadata": {
        "colab": {
          "base_uri": "https://localhost:8080/"
        },
        "id": "8HpYwq56dpJV",
        "outputId": "55008399-fa7b-4cb8-fb95-774bc425c7d8"
      },
      "source": [
        "data['Status of existing checking account'].unique()[[2,0,1,3]]"
      ],
      "execution_count": 101,
      "outputs": [
        {
          "output_type": "execute_result",
          "data": {
            "text/plain": [
              "array(['no checking account', '<0 DM', '0 <= <200 DM', '>= 200 DM '],\n",
              "      dtype=object)"
            ]
          },
          "metadata": {
            "tags": []
          },
          "execution_count": 101
        }
      ]
    },
    {
      "cell_type": "code",
      "metadata": {
        "id": "pKFF8vp7do6j"
      },
      "source": [
        "for i, elem in enumerate(data['Status of existing checking account'].unique()):\n",
        "  data['Status of existing checking account'] = data['Status of existing checking account'].replace(elem, i)"
      ],
      "execution_count": 102,
      "outputs": []
    },
    {
      "cell_type": "code",
      "metadata": {
        "colab": {
          "base_uri": "https://localhost:8080/"
        },
        "id": "MTiQ-BG9cSB9",
        "outputId": "f846ff9c-060b-4f2b-8f5c-fe8e0248bba4"
      },
      "source": [
        "data['Savings account/bonds'].unique()"
      ],
      "execution_count": 103,
      "outputs": [
        {
          "output_type": "execute_result",
          "data": {
            "text/plain": [
              "array(['no savings account', '<100 DM', '500 <= < 1000 DM', '>= 1000 DM',\n",
              "       '100 <= <500 DM'], dtype=object)"
            ]
          },
          "metadata": {
            "tags": []
          },
          "execution_count": 103
        }
      ]
    },
    {
      "cell_type": "code",
      "metadata": {
        "id": "kBWV1X3Uc0NH"
      },
      "source": [
        "for i, elem in enumerate(data['Savings account/bonds'].unique()):\n",
        "  data['Savings account/bonds'] = data['Savings account/bonds'].replace(elem, i)"
      ],
      "execution_count": 104,
      "outputs": []
    },
    {
      "cell_type": "code",
      "metadata": {
        "colab": {
          "base_uri": "https://localhost:8080/"
        },
        "id": "VulK-4wedOy9",
        "outputId": "405d6b17-088f-422a-b16b-e70e0fcef7b6"
      },
      "source": [
        "data['Present employment since'].unique()"
      ],
      "execution_count": 105,
      "outputs": [
        {
          "output_type": "execute_result",
          "data": {
            "text/plain": [
              "array(['>=7 years', '1<= < 4 years', '4<= <7 years', 'unemployed',\n",
              "       '<1 years'], dtype=object)"
            ]
          },
          "metadata": {
            "tags": []
          },
          "execution_count": 105
        }
      ]
    },
    {
      "cell_type": "code",
      "metadata": {
        "id": "oaFelYQydStK"
      },
      "source": [
        "for i, elem in enumerate(data['Present employment since'].unique()):\n",
        "  data['Present employment since'] = data['Present employment since'].replace(elem, i)"
      ],
      "execution_count": 106,
      "outputs": []
    },
    {
      "cell_type": "code",
      "metadata": {
        "colab": {
          "base_uri": "https://localhost:8080/"
        },
        "id": "kHqNubNSljrJ",
        "outputId": "a2d2f065-a1d6-4a47-a589-a004977cf822"
      },
      "source": [
        "data['Housing'].unique()"
      ],
      "execution_count": 107,
      "outputs": [
        {
          "output_type": "execute_result",
          "data": {
            "text/plain": [
              "array(['own', 'for free', 'rent'], dtype=object)"
            ]
          },
          "metadata": {
            "tags": []
          },
          "execution_count": 107
        }
      ]
    },
    {
      "cell_type": "code",
      "metadata": {
        "id": "fyL2Ej8Ul06e"
      },
      "source": [
        "for i, elem in enumerate(data['Housing'].unique()):\n",
        "  data['Housing'] = data['Housing'].replace(elem, i)"
      ],
      "execution_count": 108,
      "outputs": []
    },
    {
      "cell_type": "code",
      "metadata": {
        "id": "TBoltJn8YrdZ"
      },
      "source": [
        "# Preprocess: male=0, female=1 ; 1 = protected attribute.\n",
        "#             Bad Risk=0, Good Risk=1 ; 1 = good decision."
      ],
      "execution_count": 109,
      "outputs": []
    },
    {
      "cell_type": "code",
      "metadata": {
        "id": "dZCJBx0hY-I9"
      },
      "source": [
        "def get_sex(x):\n",
        "  y = x.split(':')[0]\n",
        "  if y == 'male':\n",
        "    return 0\n",
        "  elif y == 'female':\n",
        "    return 1\n",
        "\n",
        "def get_decision(x):\n",
        "  if x == 'Good Risk':\n",
        "    return 1\n",
        "  elif x == 'Bad Risk':\n",
        "    return 0"
      ],
      "execution_count": 110,
      "outputs": []
    },
    {
      "cell_type": "code",
      "metadata": {
        "id": "TRsCJjhoZTOf"
      },
      "source": [
        "data['sex'] = data['Personal status and sex'].apply(lambda x: get_sex(x))\n",
        "data['target'] = data['Cost Matrix(Risk)'].apply(lambda x: get_decision(x))"
      ],
      "execution_count": 111,
      "outputs": []
    },
    {
      "cell_type": "code",
      "metadata": {
        "id": "PPaAaM3qYRg3"
      },
      "source": [
        "#data.head(1)"
      ],
      "execution_count": 112,
      "outputs": []
    },
    {
      "cell_type": "code",
      "metadata": {
        "id": "bxtWrFehd73T"
      },
      "source": [
        "keep_col = ['Status of existing checking account', \n",
        "            'Duration in month',\n",
        "            'Credit amount',\n",
        "            'Savings account/bonds',\n",
        "            'Present residence since',\n",
        "            'Installment rate in percentage of disposable income',\n",
        "            'Present residence since',\n",
        "            'Age in years',\n",
        "            'Number of existing credits at this bank',\n",
        "            'Number of people being liable to provide maintenance for',\n",
        "            'Housing',\n",
        "            'sex',\n",
        "            'target'\n",
        "            ]\n",
        "feat_col = ['Status of existing checking account', \n",
        "            'Duration in month',\n",
        "            'Credit amount',\n",
        "            'Savings account/bonds',\n",
        "            'Present residence since',\n",
        "            'Installment rate in percentage of disposable income',\n",
        "            'Present residence since',\n",
        "            'Age in years',\n",
        "            'Number of existing credits at this bank',\n",
        "            'Number of people being liable to provide maintenance for',\n",
        "            'Housing',\n",
        "            'sex',\n",
        "            ]"
      ],
      "execution_count": 113,
      "outputs": []
    },
    {
      "cell_type": "code",
      "metadata": {
        "id": "kfBlBR9ImJd6"
      },
      "source": [
        "data_clean = data[keep_col]"
      ],
      "execution_count": 114,
      "outputs": []
    },
    {
      "cell_type": "markdown",
      "metadata": {
        "id": "EuAColXcfk3a"
      },
      "source": [
        "<h3>Training</h3>"
      ]
    },
    {
      "cell_type": "code",
      "metadata": {
        "id": "MWCTepXdfRHl"
      },
      "source": [
        "from sklearn.model_selection import train_test_split\n",
        "from sklearn.linear_model import LogisticRegression\n",
        "\n",
        "data_train, data_test = train_test_split(data_clean, test_size=0.1)"
      ],
      "execution_count": 115,
      "outputs": []
    },
    {
      "cell_type": "code",
      "metadata": {
        "id": "ZIbilR5tg3lw"
      },
      "source": [
        "X_train, y_train = data_train[feat_col], data_train['target']\n",
        "X_test, y_test = data_test[feat_col], data_test['target']"
      ],
      "execution_count": 116,
      "outputs": []
    },
    {
      "cell_type": "code",
      "metadata": {
        "colab": {
          "base_uri": "https://localhost:8080/"
        },
        "id": "X2DxY_dVfg6T",
        "outputId": "c7997b6b-967d-46ee-cdd8-2ed2f3b1c1a7"
      },
      "source": [
        "LogReg = LogisticRegression(max_iter=1000)\n",
        "LogReg.fit(X_train, y_train)"
      ],
      "execution_count": 117,
      "outputs": [
        {
          "output_type": "execute_result",
          "data": {
            "text/plain": [
              "LogisticRegression(C=1.0, class_weight=None, dual=False, fit_intercept=True,\n",
              "                   intercept_scaling=1, l1_ratio=None, max_iter=1000,\n",
              "                   multi_class='auto', n_jobs=None, penalty='l2',\n",
              "                   random_state=None, solver='lbfgs', tol=0.0001, verbose=0,\n",
              "                   warm_start=False)"
            ]
          },
          "metadata": {
            "tags": []
          },
          "execution_count": 117
        }
      ]
    },
    {
      "cell_type": "code",
      "metadata": {
        "id": "KQ3-rcn7hK16"
      },
      "source": [
        "scores = LogReg.predict_proba(X_test)\n",
        "predictions = LogReg.predict(X_test)"
      ],
      "execution_count": 118,
      "outputs": []
    },
    {
      "cell_type": "code",
      "metadata": {
        "colab": {
          "base_uri": "https://localhost:8080/"
        },
        "id": "CCjEQvoro_cN",
        "outputId": "ae56d11d-50dd-4715-f6d3-70e768967c02"
      },
      "source": [
        "LogReg.score(X_test, y_test), LogReg.score(X_train, y_train)"
      ],
      "execution_count": 119,
      "outputs": [
        {
          "output_type": "execute_result",
          "data": {
            "text/plain": [
              "(0.76, 0.74)"
            ]
          },
          "metadata": {
            "tags": []
          },
          "execution_count": 119
        }
      ]
    },
    {
      "cell_type": "code",
      "metadata": {
        "colab": {
          "base_uri": "https://localhost:8080/"
        },
        "id": "PZWJ5zwtvveY",
        "outputId": "09e14063-2e12-4414-d49c-83e79d549bb4"
      },
      "source": [
        "X, y = data_clean[feat_col], data_clean['target']\n",
        "LogReg.score(X, y)"
      ],
      "execution_count": 120,
      "outputs": [
        {
          "output_type": "execute_result",
          "data": {
            "text/plain": [
              "0.742"
            ]
          },
          "metadata": {
            "tags": []
          },
          "execution_count": 120
        }
      ]
    },
    {
      "cell_type": "code",
      "metadata": {
        "id": "9aJ4v-nap38u"
      },
      "source": [
        "data_test_pred = data_test.copy()\n",
        "data_test_pred['target'] = predictions"
      ],
      "execution_count": 121,
      "outputs": []
    },
    {
      "cell_type": "code",
      "metadata": {
        "colab": {
          "base_uri": "https://localhost:8080/",
          "height": 254
        },
        "id": "Sdulnmf_qC8-",
        "outputId": "9973db92-7b7e-4127-9bc9-af8a840eae85"
      },
      "source": [
        "data_test_pred.head(5)"
      ],
      "execution_count": 122,
      "outputs": [
        {
          "output_type": "execute_result",
          "data": {
            "text/html": [
              "<div>\n",
              "<style scoped>\n",
              "    .dataframe tbody tr th:only-of-type {\n",
              "        vertical-align: middle;\n",
              "    }\n",
              "\n",
              "    .dataframe tbody tr th {\n",
              "        vertical-align: top;\n",
              "    }\n",
              "\n",
              "    .dataframe thead th {\n",
              "        text-align: right;\n",
              "    }\n",
              "</style>\n",
              "<table border=\"1\" class=\"dataframe\">\n",
              "  <thead>\n",
              "    <tr style=\"text-align: right;\">\n",
              "      <th></th>\n",
              "      <th>Status of existing checking account</th>\n",
              "      <th>Duration in month</th>\n",
              "      <th>Credit amount</th>\n",
              "      <th>Savings account/bonds</th>\n",
              "      <th>Present residence since</th>\n",
              "      <th>Installment rate in percentage of disposable income</th>\n",
              "      <th>Present residence since</th>\n",
              "      <th>Age in years</th>\n",
              "      <th>Number of existing credits at this bank</th>\n",
              "      <th>Number of people being liable to provide maintenance for</th>\n",
              "      <th>Housing</th>\n",
              "      <th>sex</th>\n",
              "      <th>target</th>\n",
              "    </tr>\n",
              "  </thead>\n",
              "  <tbody>\n",
              "    <tr>\n",
              "      <th>680</th>\n",
              "      <td>2</td>\n",
              "      <td>6</td>\n",
              "      <td>1538</td>\n",
              "      <td>1</td>\n",
              "      <td>2</td>\n",
              "      <td>1</td>\n",
              "      <td>2</td>\n",
              "      <td>56</td>\n",
              "      <td>1</td>\n",
              "      <td>1</td>\n",
              "      <td>0</td>\n",
              "      <td>1</td>\n",
              "      <td>1</td>\n",
              "    </tr>\n",
              "    <tr>\n",
              "      <th>647</th>\n",
              "      <td>2</td>\n",
              "      <td>12</td>\n",
              "      <td>1386</td>\n",
              "      <td>2</td>\n",
              "      <td>2</td>\n",
              "      <td>2</td>\n",
              "      <td>2</td>\n",
              "      <td>26</td>\n",
              "      <td>1</td>\n",
              "      <td>1</td>\n",
              "      <td>0</td>\n",
              "      <td>1</td>\n",
              "      <td>1</td>\n",
              "    </tr>\n",
              "    <tr>\n",
              "      <th>432</th>\n",
              "      <td>0</td>\n",
              "      <td>6</td>\n",
              "      <td>1872</td>\n",
              "      <td>1</td>\n",
              "      <td>4</td>\n",
              "      <td>4</td>\n",
              "      <td>4</td>\n",
              "      <td>36</td>\n",
              "      <td>3</td>\n",
              "      <td>1</td>\n",
              "      <td>1</td>\n",
              "      <td>0</td>\n",
              "      <td>1</td>\n",
              "    </tr>\n",
              "    <tr>\n",
              "      <th>753</th>\n",
              "      <td>2</td>\n",
              "      <td>30</td>\n",
              "      <td>5771</td>\n",
              "      <td>1</td>\n",
              "      <td>2</td>\n",
              "      <td>4</td>\n",
              "      <td>2</td>\n",
              "      <td>25</td>\n",
              "      <td>2</td>\n",
              "      <td>1</td>\n",
              "      <td>0</td>\n",
              "      <td>1</td>\n",
              "      <td>1</td>\n",
              "    </tr>\n",
              "    <tr>\n",
              "      <th>640</th>\n",
              "      <td>0</td>\n",
              "      <td>18</td>\n",
              "      <td>750</td>\n",
              "      <td>1</td>\n",
              "      <td>1</td>\n",
              "      <td>4</td>\n",
              "      <td>1</td>\n",
              "      <td>27</td>\n",
              "      <td>1</td>\n",
              "      <td>1</td>\n",
              "      <td>0</td>\n",
              "      <td>1</td>\n",
              "      <td>0</td>\n",
              "    </tr>\n",
              "  </tbody>\n",
              "</table>\n",
              "</div>"
            ],
            "text/plain": [
              "     Status of existing checking account  Duration in month  ...  sex  target\n",
              "680                                    2                  6  ...    1       1\n",
              "647                                    2                 12  ...    1       1\n",
              "432                                    0                  6  ...    0       1\n",
              "753                                    2                 30  ...    1       1\n",
              "640                                    0                 18  ...    1       0\n",
              "\n",
              "[5 rows x 13 columns]"
            ]
          },
          "metadata": {
            "tags": []
          },
          "execution_count": 122
        }
      ]
    },
    {
      "cell_type": "code",
      "metadata": {
        "colab": {
          "base_uri": "https://localhost:8080/",
          "height": 254
        },
        "id": "Oh8xn83SqYGt",
        "outputId": "bb481b35-b647-4521-bcb7-7f343e411df5"
      },
      "source": [
        "data_test.head(5)"
      ],
      "execution_count": 123,
      "outputs": [
        {
          "output_type": "execute_result",
          "data": {
            "text/html": [
              "<div>\n",
              "<style scoped>\n",
              "    .dataframe tbody tr th:only-of-type {\n",
              "        vertical-align: middle;\n",
              "    }\n",
              "\n",
              "    .dataframe tbody tr th {\n",
              "        vertical-align: top;\n",
              "    }\n",
              "\n",
              "    .dataframe thead th {\n",
              "        text-align: right;\n",
              "    }\n",
              "</style>\n",
              "<table border=\"1\" class=\"dataframe\">\n",
              "  <thead>\n",
              "    <tr style=\"text-align: right;\">\n",
              "      <th></th>\n",
              "      <th>Status of existing checking account</th>\n",
              "      <th>Duration in month</th>\n",
              "      <th>Credit amount</th>\n",
              "      <th>Savings account/bonds</th>\n",
              "      <th>Present residence since</th>\n",
              "      <th>Installment rate in percentage of disposable income</th>\n",
              "      <th>Present residence since</th>\n",
              "      <th>Age in years</th>\n",
              "      <th>Number of existing credits at this bank</th>\n",
              "      <th>Number of people being liable to provide maintenance for</th>\n",
              "      <th>Housing</th>\n",
              "      <th>sex</th>\n",
              "      <th>target</th>\n",
              "    </tr>\n",
              "  </thead>\n",
              "  <tbody>\n",
              "    <tr>\n",
              "      <th>680</th>\n",
              "      <td>2</td>\n",
              "      <td>6</td>\n",
              "      <td>1538</td>\n",
              "      <td>1</td>\n",
              "      <td>2</td>\n",
              "      <td>1</td>\n",
              "      <td>2</td>\n",
              "      <td>56</td>\n",
              "      <td>1</td>\n",
              "      <td>1</td>\n",
              "      <td>0</td>\n",
              "      <td>1</td>\n",
              "      <td>1</td>\n",
              "    </tr>\n",
              "    <tr>\n",
              "      <th>647</th>\n",
              "      <td>2</td>\n",
              "      <td>12</td>\n",
              "      <td>1386</td>\n",
              "      <td>2</td>\n",
              "      <td>2</td>\n",
              "      <td>2</td>\n",
              "      <td>2</td>\n",
              "      <td>26</td>\n",
              "      <td>1</td>\n",
              "      <td>1</td>\n",
              "      <td>0</td>\n",
              "      <td>1</td>\n",
              "      <td>0</td>\n",
              "    </tr>\n",
              "    <tr>\n",
              "      <th>432</th>\n",
              "      <td>0</td>\n",
              "      <td>6</td>\n",
              "      <td>1872</td>\n",
              "      <td>1</td>\n",
              "      <td>4</td>\n",
              "      <td>4</td>\n",
              "      <td>4</td>\n",
              "      <td>36</td>\n",
              "      <td>3</td>\n",
              "      <td>1</td>\n",
              "      <td>1</td>\n",
              "      <td>0</td>\n",
              "      <td>1</td>\n",
              "    </tr>\n",
              "    <tr>\n",
              "      <th>753</th>\n",
              "      <td>2</td>\n",
              "      <td>30</td>\n",
              "      <td>5771</td>\n",
              "      <td>1</td>\n",
              "      <td>2</td>\n",
              "      <td>4</td>\n",
              "      <td>2</td>\n",
              "      <td>25</td>\n",
              "      <td>2</td>\n",
              "      <td>1</td>\n",
              "      <td>0</td>\n",
              "      <td>1</td>\n",
              "      <td>1</td>\n",
              "    </tr>\n",
              "    <tr>\n",
              "      <th>640</th>\n",
              "      <td>0</td>\n",
              "      <td>18</td>\n",
              "      <td>750</td>\n",
              "      <td>1</td>\n",
              "      <td>1</td>\n",
              "      <td>4</td>\n",
              "      <td>1</td>\n",
              "      <td>27</td>\n",
              "      <td>1</td>\n",
              "      <td>1</td>\n",
              "      <td>0</td>\n",
              "      <td>1</td>\n",
              "      <td>0</td>\n",
              "    </tr>\n",
              "  </tbody>\n",
              "</table>\n",
              "</div>"
            ],
            "text/plain": [
              "     Status of existing checking account  Duration in month  ...  sex  target\n",
              "680                                    2                  6  ...    1       1\n",
              "647                                    2                 12  ...    1       0\n",
              "432                                    0                  6  ...    0       1\n",
              "753                                    2                 30  ...    1       1\n",
              "640                                    0                 18  ...    1       0\n",
              "\n",
              "[5 rows x 13 columns]"
            ]
          },
          "metadata": {
            "tags": []
          },
          "execution_count": 123
        }
      ]
    },
    {
      "cell_type": "markdown",
      "metadata": {
        "id": "_shgfLq1wXJ0"
      },
      "source": [
        "<h3>Rough Analysis</h3>"
      ]
    },
    {
      "cell_type": "code",
      "metadata": {
        "id": "w5Y4_n7myNAa"
      },
      "source": [
        "data_clean_analysis = data_clean.copy()"
      ],
      "execution_count": 124,
      "outputs": []
    },
    {
      "cell_type": "code",
      "metadata": {
        "colab": {
          "base_uri": "https://localhost:8080/"
        },
        "id": "uKlIJPgDwbmr",
        "outputId": "8c4a6bc6-cc0a-4195-c80c-353a60f5ed5b"
      },
      "source": [
        "where_female = data_clean_analysis['sex'] == 1\n",
        "where_male = data_clean_analysis['sex'] == 0\n",
        "print('Proportion of female: {}'.format(where_female.sum()/len(data_clean_analysis)))\n",
        "print('Proportion of male: {}'.format(where_male.sum()/len(data_clean_analysis)))"
      ],
      "execution_count": 125,
      "outputs": [
        {
          "output_type": "stream",
          "text": [
            "Proportion of female: 0.31\n",
            "Proportion of male: 0.69\n"
          ],
          "name": "stdout"
        }
      ]
    },
    {
      "cell_type": "code",
      "metadata": {
        "colab": {
          "base_uri": "https://localhost:8080/"
        },
        "id": "iTpJP6ZUxVpB",
        "outputId": "e8ae331f-d580-4599-d9cd-60092eceb774"
      },
      "source": [
        "print('Proportion of Good Risk: {}'.format(data_clean_analysis['target'].mean()))\n",
        "print('Proportion of Bad Risk: {}'.format((data_clean_analysis['target'] == 0).mean() ))"
      ],
      "execution_count": 126,
      "outputs": [
        {
          "output_type": "stream",
          "text": [
            "Proportion of Good Risk: 0.7\n",
            "Proportion of Bad Risk: 0.3\n"
          ],
          "name": "stdout"
        }
      ]
    },
    {
      "cell_type": "code",
      "metadata": {
        "colab": {
          "base_uri": "https://localhost:8080/",
          "height": 282
        },
        "id": "do2BRjxpxrCZ",
        "outputId": "02a37d99-8ccb-4157-f85d-00f6f0a0630b"
      },
      "source": [
        "data_clean_analysis['pred'] = LogReg.predict(X)\n",
        "data_clean_analysis['prob'] = LogReg.predict_proba(X)[:,1]\n",
        "\n",
        "data_clean_analysis[where_female].prob.hist(rwidth=0.7, alpha=0.6, density=True)\n",
        "data_clean_analysis[where_male].prob.hist(rwidth=0.7, alpha=0.6, density=True)"
      ],
      "execution_count": 127,
      "outputs": [
        {
          "output_type": "execute_result",
          "data": {
            "text/plain": [
              "<matplotlib.axes._subplots.AxesSubplot at 0x7f00d27f5b10>"
            ]
          },
          "metadata": {
            "tags": []
          },
          "execution_count": 127
        },
        {
          "output_type": "display_data",
          "data": {
            "image/png": "[encoded data removed]",
            "text/plain": [
              "<Figure size 432x288 with 1 Axes>"
            ]
          },
          "metadata": {
            "tags": [],
            "needs_background": "light"
          }
        }
      ]
    },
    {
      "cell_type": "code",
      "metadata": {
        "id": "t4xrndgzDW83"
      },
      "source": [
        "# Analyse contrefactuelle"
      ],
      "execution_count": 128,
      "outputs": []
    },
    {
      "cell_type": "code",
      "metadata": {
        "id": "fYF3JxO4DZVq"
      },
      "source": [
        "data_contrefact = data_clean_analysis.copy()"
      ],
      "execution_count": 129,
      "outputs": []
    },
    {
      "cell_type": "code",
      "metadata": {
        "id": "7Mr9rwtnEVbR"
      },
      "source": [
        "def change_sex(x):\n",
        "  if x == 0:\n",
        "    return 1\n",
        "  else:\n",
        "    return 0"
      ],
      "execution_count": 130,
      "outputs": []
    },
    {
      "cell_type": "code",
      "metadata": {
        "id": "jQpoQ8KGEdkj"
      },
      "source": [
        "data_contrefact['sex'] = data_contrefact['sex'].apply(lambda x: change_sex(x))\n",
        "X_contrefact = data_contrefact[feat_col]\n",
        "\n",
        "data_contrefact['pred'] = LogReg.predict(X_contrefact)\n",
        "data_contrefact['prob'] = LogReg.predict_proba(X_contrefact)[:,1]"
      ],
      "execution_count": 131,
      "outputs": []
    },
    {
      "cell_type": "code",
      "metadata": {
        "colab": {
          "base_uri": "https://localhost:8080/"
        },
        "id": "7YbnoG11EmNC",
        "outputId": "fbc4f05a-d3a6-4c09-8af0-294f7ab1cf63"
      },
      "source": [
        "good_risk_female_rate = data_clean_analysis[where_female]['pred'].mean()\n",
        "good_risk_male_rate = data_clean_analysis[where_male]['pred'].mean()\n",
        "\n",
        "where_female_contrefact = data_contrefact['sex'] == 1\n",
        "where_male_contrefact = data_contrefact['sex'] == 0\n",
        "\n",
        "good_risk_female_rate_cf = data_contrefact[where_female_contrefact]['pred'].mean()\n",
        "good_risk_male_rate_cf = data_contrefact[where_male_contrefact]['pred'].mean()\n",
        "\n",
        "print('----- INITIAL COMPUTATIONS -----')\n",
        "print('Proportion of Good Risk for female: {}'.format(good_risk_female_rate))\n",
        "print('Proportion of Good Risk for male: {}'.format(good_risk_male_rate))\n",
        "print('\\n')\n",
        "print('----- CONTREFACTUAL COMPUTATIONS -----')\n",
        "print('Proportion of Good Risk for female: {}'.format(good_risk_female_rate_cf))\n",
        "print('Proportion of Good Risk for male: {}'.format(good_risk_male_rate_cf))"
      ],
      "execution_count": 132,
      "outputs": [
        {
          "output_type": "stream",
          "text": [
            "----- INITIAL COMPUTATIONS -----\n",
            "Proportion of Good Risk for female: 0.7580645161290323\n",
            "Proportion of Good Risk for male: 0.8159420289855073\n",
            "\n",
            "\n",
            "----- CONTREFACTUAL COMPUTATIONS -----\n",
            "Proportion of Good Risk for female: 0.7927536231884058\n",
            "Proportion of Good Risk for male: 0.7774193548387097\n"
          ],
          "name": "stdout"
        }
      ]
    },
    {
      "cell_type": "markdown",
      "metadata": {
        "id": "-KGpdc0zkRAx"
      },
      "source": [
        "<h3>Fairness Analysis</h3>"
      ]
    },
    {
      "cell_type": "code",
      "metadata": {
        "id": "U2xzEuUakG5Y"
      },
      "source": [
        "from aif360.metrics import ClassificationMetric\n",
        "from aif360.datasets import BinaryLabelDataset"
      ],
      "execution_count": 133,
      "outputs": []
    },
    {
      "cell_type": "code",
      "metadata": {
        "id": "bFjU2ISWogQK"
      },
      "source": [
        "df_aif_ground_truth = BinaryLabelDataset(df=data_test, \n",
        "                            label_names=['target'], \n",
        "                            protected_attribute_names=['sex'])\n",
        "df_aif_pred = BinaryLabelDataset(df=data_test_pred, \n",
        "                            label_names=['target'], \n",
        "                            protected_attribute_names=['sex'])"
      ],
      "execution_count": 134,
      "outputs": []
    },
    {
      "cell_type": "code",
      "metadata": {
        "id": "xmReardjtE9q"
      },
      "source": [
        "privileged_group = [{'sex': 0}]\n",
        "unprivileged_group = [{'sex': 1}]"
      ],
      "execution_count": 135,
      "outputs": []
    },
    {
      "cell_type": "code",
      "metadata": {
        "id": "8D8dLE1hmk3c"
      },
      "source": [
        "classif_metric = ClassificationMetric(df_aif_ground_truth,\n",
        "                                      df_aif_pred,\n",
        "                                      unprivileged_group, \n",
        "                                      privileged_group)"
      ],
      "execution_count": 136,
      "outputs": []
    },
    {
      "cell_type": "markdown",
      "metadata": {
        "id": "j-YRUdJgKcOA"
      },
      "source": [
        "Many metrics of fairness are available, in the following cells, we compute:\n",
        "<ul>\n",
        "  <li> The Statistical Parity Difference \n",
        "  $$ SP = \\mathbf{P}(f(X)=1 \\, | \\, S=1) - \\mathbf{P}(f(X)=1 \\, | \\, S=0). $$ </li>\n",
        "  <li> The Equal Opportunity Difference\n",
        "  $$ EO = \\mathbf{P}(f(X)=1 \\, | \\, S=1, Y=1) - \\mathbf{P}(f(X)=1 \\, | \\, S=0, Y=1). $$ </li>\n",
        "  <li> The Average Odds Difference \n",
        "  $$ AO = \\frac{1}{2} \\Big( \\big[ \\mathbf{P}(f(X)=1 \\, | \\, S=1, Y=0) - \\mathbf{P}(f(X)=1 \\, | \\, S=0, Y=0) \\big]  \\\\ \n",
        "    + \\big[ \\mathbf{P}(f(X)=1 \\, | \\, S=1, Y=1) - \\mathbf{P}(f(X)=1 \\, | \\, S=0, Y=1) \\big]   \\Big). $$\n",
        "  </li>\n",
        "\n",
        "  <li>The Disparate Impact  \n",
        "  $$ DI = \\frac{\\mathbf{P}(f(X)=1 \\, | \\, S=1)}{ \\mathbf{P}(f(X)=1 \\, | \\, S=0)}. $$\n",
        "  </li>\n",
        "</ul>"
      ]
    },
    {
      "cell_type": "code",
      "metadata": {
        "colab": {
          "base_uri": "https://localhost:8080/"
        },
        "id": "699-wduDKbRb",
        "outputId": "b167dbb1-d7f5-456a-a62c-9872fe6f1d8d"
      },
      "source": [
        "# Statistical Parity\n",
        "classif_metric.statistical_parity_difference()"
      ],
      "execution_count": 137,
      "outputs": [
        {
          "output_type": "execute_result",
          "data": {
            "text/plain": [
              "-0.10886927280369896"
            ]
          },
          "metadata": {
            "tags": []
          },
          "execution_count": 137
        }
      ]
    },
    {
      "cell_type": "code",
      "metadata": {
        "colab": {
          "base_uri": "https://localhost:8080/"
        },
        "id": "WTZSoKI4rPIE",
        "outputId": "f5cf0b63-7117-4c7a-ae9c-b169b7f03693"
      },
      "source": [
        "# Equal Opportunity Difference\n",
        "classif_metric.equal_opportunity_difference()"
      ],
      "execution_count": 138,
      "outputs": [
        {
          "output_type": "execute_result",
          "data": {
            "text/plain": [
              "-0.047101449275362306"
            ]
          },
          "metadata": {
            "tags": []
          },
          "execution_count": 138
        }
      ]
    },
    {
      "cell_type": "code",
      "metadata": {
        "colab": {
          "base_uri": "https://localhost:8080/"
        },
        "id": "fENn_xRgrYdC",
        "outputId": "dbfa30f4-9886-43a5-ee6b-b62edaed7af7"
      },
      "source": [
        "# Average Odds Difference\n",
        "classif_metric.average_odds_difference()"
      ],
      "execution_count": 139,
      "outputs": [
        {
          "output_type": "execute_result",
          "data": {
            "text/plain": [
              "-0.04999303232998886"
            ]
          },
          "metadata": {
            "tags": []
          },
          "execution_count": 139
        }
      ]
    },
    {
      "cell_type": "code",
      "metadata": {
        "colab": {
          "base_uri": "https://localhost:8080/"
        },
        "id": "oJj0XrbEt9sO",
        "outputId": "7c574c4c-4486-47e3-e976-91837f64a226"
      },
      "source": [
        "# Disparate Impact\n",
        "classif_metric.disparate_impact()"
      ],
      "execution_count": 140,
      "outputs": [
        {
          "output_type": "execute_result",
          "data": {
            "text/plain": [
              "0.8722879684418147"
            ]
          },
          "metadata": {
            "tags": []
          },
          "execution_count": 140
        }
      ]
    },
    {
      "cell_type": "code",
      "metadata": {
        "id": "Kyg0jhTkuK_p"
      },
      "source": [
        ""
      ],
      "execution_count": null,
      "outputs": []
    }
  ]
}